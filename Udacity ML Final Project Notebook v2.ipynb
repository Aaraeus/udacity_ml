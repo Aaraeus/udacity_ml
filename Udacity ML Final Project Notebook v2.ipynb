{
 "cells": [
  {
   "cell_type": "markdown",
   "metadata": {},
   "source": [
    "# Person of Interest Model\n",
    "## Udacity's Introduction to Machine Learning course\n",
    "###### By aaraeus"
   ]
  },
  {
   "cell_type": "markdown",
   "metadata": {},
   "source": [
    "**Other helpful repositories to learn from which helped me in March 2019**\n",
    "- https://github.com/tybyers/Udacity_IntroMachineLearning/blob/master/Question_Responses.ipynb\n",
    "\n",
    "- https://github.com/soukiassianb/Udacity-Machine-Learning-Enron-Dataset/blob/master/poi_id.ipynb\n",
    "\n",
    "- https://devpost.com/software/enron-identify-fraud"
   ]
  },
  {
   "cell_type": "markdown",
   "metadata": {},
   "source": [
    "# Table of Contents\n",
    "- [Introduction](#Introduction)\n",
    "- [Section 1: Initialisation, data loading and imports](#Section1)\n",
    "- [Section 2: Outlier identification & removal](#Section2)\n",
    "- [Section 3: Create new features](#Section3)\n",
    "- [Section 4: Feature Selection](#Section4)\n",
    "- [Section 5: Model Data Preparation](#Section5)\n",
    "- [Section 6: Classifier Selection and Testing](#Section6)\n",
    "- [Section 7: Parameter Tuning](#Section7)\n",
    "- [Section 8: Final model creation](#Section8)\n",
    "- [Conclusion](#Conclusion)"
   ]
  },
  {
   "cell_type": "markdown",
   "metadata": {},
   "source": [
    "<a id='Introduction'></a>"
   ]
  },
  {
   "cell_type": "markdown",
   "metadata": {},
   "source": [
    "## Introduction\n",
    "The goal here is to identify whether someone might be a person of interest in a fraud investigation into the Enron scandal. Enron was a company that committed a large amount of fraudulent activities, effectively rigging the market to create profit. The question we are trying to solve is, what other people, aside from the people already identified as a POI from previous litigation action, could have been actively and knowingly involved? Since we have a large amount of open data, including emails, we can train a machine learning model to look at these features and attempt to predict whether someone is a person of interest or not."
   ]
  },
  {
   "cell_type": "markdown",
   "metadata": {},
   "source": [
    "<a id='Section1'></a>"
   ]
  },
  {
   "cell_type": "markdown",
   "metadata": {},
   "source": [
    "## Section 1: Initialisation, data loading and imports\n",
    "\n",
    "Here we're just initialising the working directory to make editing items a little easier. I've placed all the features into their own lists, and then created a final features list to work with."
   ]
  },
  {
   "cell_type": "code",
   "execution_count": 1,
   "metadata": {},
   "outputs": [],
   "source": [
    "# Important - this is the path of our directory, where this project/code is saved and located, \n",
    "# as well as the tester file!\n",
    "path = '/Users/kintesh/Documents/udacity_ml/python3'\n",
    "\n",
    "import sys\n",
    "import pickle\n",
    "import os\n",
    "import pandas as pd\n",
    "import matplotlib.pyplot\n",
    "import seaborn as sn\n",
    "import numpy as np\n",
    "\n",
    "os.chdir(path)\n",
    "\n",
    "sys.path.append(\"ud120-projects/tools/\")\n",
    "sys.path.append(\"ud120-projects/final_project/\")\n",
    "\n",
    "from feature_format import featureFormat, targetFeatureSplit\n",
    "from tester import dump_classifier_and_data\n",
    "\n",
    "### Task 1: Select what features you'll use.\n",
    "### features_list is a list of strings, each of which is a feature name.\n",
    "### The first feature must be \"poi\".\n",
    "\n",
    "financial_features_list = [\"salary\", \"deferral_payments\", \"total_payments\", \"loan_advances\", \n",
    "                           \"bonus\", \"restricted_stock_deferred\", \"deferred_income\", \n",
    "                           \"total_stock_value\", \"expenses\", \"exercised_stock_options\", \n",
    "                           \"other\", \"long_term_incentive\", \"restricted_stock\", \"director_fees\"]\n",
    "\n",
    "email_features_list = [\"to_messages\", \"from_poi_to_this_person\",\n",
    "                       \"from_messages\", \"from_this_person_to_poi\", \"shared_receipt_with_poi\"]\n",
    "\n",
    "target_label = [\"poi\"]\n",
    "\n",
    "full_features_list = target_label + financial_features_list + email_features_list\n",
    "features_list = financial_features_list + email_features_list\n",
    "financial_features_list = target_label + financial_features_list\n",
    "email_features_list = target_label + email_features_list\n",
    "\n",
    "### Load the dictionary containing the dataset\n",
    "data_dict = pickle.load(open(\"ud120-projects/final_project/final_project_dataset.pkl\", \"rb\") )"
   ]
  },
  {
   "cell_type": "markdown",
   "metadata": {},
   "source": [
    "<a id='Section2'></a>"
   ]
  },
  {
   "cell_type": "markdown",
   "metadata": {},
   "source": [
    "## Section 2: Outlier identification & removal\n",
    "\n",
    "The first step of any machine learning project is to start graphing some data to check for outliers. The most obvious starting point is to chart salary and bonus as we did earlier in the course, so let's do that first.\n",
    "\n",
    "There are two obvious outliers. \"The Travel Agency In The Park\" isn't a persion, so let's remove this.\n",
    "\n",
    "Also, \"Mr Eugene E Lockhart\" doesn't contribute anything to the dataset since his values are all empty!"
   ]
  },
  {
   "cell_type": "code",
   "execution_count": 2,
   "metadata": {},
   "outputs": [
    {
     "name": "stdout",
     "output_type": "stream",
     "text": [
      "Mr Lockhart's values:\n",
      "{'salary': 'NaN', 'to_messages': 'NaN', 'deferral_payments': 'NaN', 'total_payments': 'NaN', 'loan_advances': 'NaN', 'bonus': 'NaN', 'email_address': 'NaN', 'restricted_stock_deferred': 'NaN', 'deferred_income': 'NaN', 'total_stock_value': 'NaN', 'expenses': 'NaN', 'from_poi_to_this_person': 'NaN', 'exercised_stock_options': 'NaN', 'from_messages': 'NaN', 'other': 'NaN', 'from_this_person_to_poi': 'NaN', 'poi': False, 'long_term_incentive': 'NaN', 'shared_receipt_with_poi': 'NaN', 'restricted_stock': 'NaN', 'director_fees': 'NaN'}\n"
     ]
    },
    {
     "data": {
      "image/png": "[encoded data removed]",
      "text/plain": [
       "<Figure size 432x288 with 1 Axes>"
      ]
     },
     "metadata": {
      "needs_background": "light"
     },
     "output_type": "display_data"
    }
   ],
   "source": [
    "### Task 2: Remove outliers\n",
    "features = [\"salary\", \"bonus\"]\n",
    "\n",
    "# Remove the TOTAL key, since this is going to skew our results. Also remove the \n",
    "#\"travel agency in the park\" record since that isn't a person.\n",
    "print(\"Mr Lockhart's values:\")\n",
    "print(data_dict['LOCKHART EUGENE E'])\n",
    "\n",
    "data_dict.pop('TOTAL', 0)\n",
    "data_dict.pop(\"THE TRAVEL AGENCY IN THE PARK\", 0)\n",
    "data_dict.pop('LOCKHART EUGENE E', 0)\n",
    "\n",
    "data = featureFormat(data_dict, features)\n",
    "\n",
    "for point in data:\n",
    "    salary = point[0]\n",
    "    bonus = point[1]\n",
    "    matplotlib.pyplot.scatter( salary, bonus )\n",
    "\n",
    "matplotlib.pyplot.xlabel(\"salary\")\n",
    "matplotlib.pyplot.ylabel(\"bonus\")\n",
    "matplotlib.pyplot.show()"
   ]
  },
  {
   "cell_type": "code",
   "execution_count": 3,
   "metadata": {},
   "outputs": [
    {
     "name": "stdout",
     "output_type": "stream",
     "text": [
      "--------------------\n",
      "Salary outliers:\n",
      "--------------------\n",
      "Name:  LAY KENNETH L\n",
      "Salary:  1072321\n",
      "Name:  SKILLING JEFFREY K\n",
      "Salary:  1111258\n",
      "Name:  PICKERING MARK R\n",
      "Salary:  655037\n",
      "Name:  FREVERT MARK A\n",
      "Salary:  1060932\n",
      "--------------------\n",
      "Bonus outliers:\n",
      "--------------------\n",
      "Name:  LAVORATO JOHN J\n",
      "Bonus:  8000000\n",
      "Name:  LAY KENNETH L\n",
      "Bonus:  7000000\n",
      "Name:  BELDEN TIMOTHY N\n",
      "Bonus:  5249999\n",
      "Name:  SKILLING JEFFREY K\n",
      "Bonus:  5600000\n",
      "Name:  ALLEN PHILLIP K\n",
      "Bonus:  4175000\n",
      "--------------------\n",
      "Salary & Bonus outliers:\n",
      "--------------------\n",
      "Name:  LAY KENNETH L\n",
      "Salary:  1072321\n",
      "Bonus:  7000000\n",
      "Name:  SKILLING JEFFREY K\n",
      "Salary:  1111258\n",
      "Bonus:  5600000\n"
     ]
    }
   ],
   "source": [
    "# Who are these people on the top right of the plot above? Loop through everyone, \n",
    "# and output those that have salaries above 600k and bonuses above 4m.\n",
    "\n",
    "#First, find salary outliers.\n",
    "print('-'*20)\n",
    "print('Salary outliers:')\n",
    "print('-'*20)\n",
    "for names, value in data_dict.items():\n",
    "    if data_dict[names][\"salary\"] != 'NaN' and data_dict[names][\"salary\"] >= 600000:\n",
    "        print(\"Name: \", names)\n",
    "        print(\"Salary: \", value['salary'])\n",
    "    \n",
    "print('-'*20)\n",
    "print('Bonus outliers:')\n",
    "print('-'*20)\n",
    "\n",
    "#Second, find bonus outliers.\n",
    "for names, value in data_dict.items():\n",
    "    if data_dict[names][\"bonus\"] != 'NaN' and data_dict[names][\"bonus\"] >= 4000000:\n",
    "        print(\"Name: \", names)\n",
    "        print(\"Bonus: \", value['bonus'])\n",
    "        \n",
    "print('-'*20)\n",
    "print('Salary & Bonus outliers:')\n",
    "print('-'*20)\n",
    "\n",
    "#Third, look at the combination of the two.\n",
    "for names, value in data_dict.items():\n",
    "    if data_dict[names][\"bonus\"] != 'NaN' and data_dict[names][\"bonus\"] >= 4000000 and data_dict[names][\"salary\"] != 'NaN' and data_dict[names][\"salary\"] >= 600000:\n",
    "        print(\"Name: \", names)\n",
    "        print(\"Salary: \", value['salary'])\n",
    "        print(\"Bonus: \", value['bonus'])"
   ]
  },
  {
   "cell_type": "markdown",
   "metadata": {},
   "source": [
    "Here I'm making a judgement call to keep these people, like Kenneth Lay and Jevvrey Skilling, in our dataset. The people with the highest salaries were, in fact, POIs, so it does make sense to keep them in the data, despite the fact that they are outliers and may skew our model slightly. Models can never be completely rid of bias."
   ]
  },
  {
   "cell_type": "markdown",
   "metadata": {},
   "source": [
    "<a id='Section3'></a>"
   ]
  },
  {
   "cell_type": "markdown",
   "metadata": {},
   "source": [
    "## Section 3: Create new features\n",
    "\n",
    "Here, we're creating new features and adding their name to our features_list."
   ]
  },
  {
   "cell_type": "markdown",
   "metadata": {},
   "source": [
    "Create some new features below and test them out in our feature importance list.\n",
    "\n",
    "I want to create:\n",
    "\n",
    "1. A Salary Ratio, which is your salary as a % of total payments. Are people who had a low salary ratio (i.e. had ridiculously high total payments) more likely to be a POI? Kenneth Lay certainly did.\n",
    "\n",
    "2. Expenses ratio, so the expenses as a % of the total salary. Did people who had higher expenses get cozy in the knowledge that they'd uncovered something special? \n",
    "\n",
    "3. Exercised Stock Ratio, which is exercised stock options as a proportion of total stock (exercised stock options, restricted stock, restricted stock deferred). Maybe people who knew about the 'scam' tried to exercise all their stock towards the fall of Enron?"
   ]
  },
  {
   "cell_type": "code",
   "execution_count": 4,
   "metadata": {},
   "outputs": [],
   "source": [
    "### Task 3: Create new feature(s)\n",
    "\n",
    "for person in data_dict:\n",
    "    # Salary Ratio\n",
    "    if data_dict[person]['salary'] == 'NaN' or data_dict[person]['total_payments'] == 'NaN':\n",
    "            data_dict[person]['salary_ratio'] = '0'\n",
    "    else:\n",
    "        data_dict[person]['salary_ratio'] = float(data_dict[person]['salary']) / float(data_dict[person]['total_payments'])\n",
    "    \n",
    "    # Expenses Ratio\n",
    "    if data_dict[person]['expenses'] == 'NaN' or data_dict[person]['salary'] == 'NaN':\n",
    "            data_dict[person]['expenses_ratio'] = '0'\n",
    "    else:\n",
    "        data_dict[person]['expenses_ratio'] = float(data_dict[person]['expenses']) / float(data_dict[person]['salary'])        \n",
    "    \n",
    "    # Exercised Stock Ratio\n",
    "    if data_dict[person]['exercised_stock_options'] == 'NaN' or data_dict[person]['total_stock_value'] == 'NaN':\n",
    "            data_dict[person]['exercised_stock_ratio'] = '0'\n",
    "    else:\n",
    "        data_dict[person]['exercised_stock_ratio'] = float(data_dict[person]['exercised_stock_options']) / float(data_dict[person]['total_stock_value'])\n",
    "\n",
    "# Add these features to my features_list\n",
    "features_list.append('salary_ratio')\n",
    "features_list.append('expenses_ratio')\n",
    "features_list.append('exercised_stock_ratio')"
   ]
  },
  {
   "cell_type": "code",
   "execution_count": 5,
   "metadata": {
    "scrolled": true
   },
   "outputs": [
    {
     "name": "stdout",
     "output_type": "stream",
     "text": [
      "------------------------------\n",
      "Features_list:\n",
      "------------------------------\n",
      "['salary', 'deferral_payments', 'total_payments', 'loan_advances', 'bonus', 'restricted_stock_deferred', 'deferred_income', 'total_stock_value', 'expenses', 'exercised_stock_options', 'other', 'long_term_incentive', 'restricted_stock', 'director_fees', 'to_messages', 'from_poi_to_this_person', 'from_messages', 'from_this_person_to_poi', 'shared_receipt_with_poi', 'salary_ratio', 'expenses_ratio', 'exercised_stock_ratio']\n",
      "------------------------------\n",
      "Keys in \"my_dataset\":\n",
      "------------------------------\n",
      "salary\n",
      "to_messages\n",
      "deferral_payments\n",
      "total_payments\n",
      "loan_advances\n",
      "bonus\n",
      "email_address\n",
      "restricted_stock_deferred\n",
      "deferred_income\n",
      "total_stock_value\n",
      "expenses\n",
      "from_poi_to_this_person\n",
      "exercised_stock_options\n",
      "from_messages\n",
      "other\n",
      "from_this_person_to_poi\n",
      "poi\n",
      "long_term_incentive\n",
      "shared_receipt_with_poi\n",
      "restricted_stock\n",
      "director_fees\n",
      "salary_ratio\n",
      "expenses_ratio\n",
      "exercised_stock_ratio\n"
     ]
    }
   ],
   "source": [
    "### Store to my_dataset for easy export below.\n",
    "my_dataset = data_dict\n",
    "\n",
    "# Print features_list and an example, to make sure the data has our created features in it.\n",
    "print('-'*30)\n",
    "print('Features_list:')\n",
    "print('-'*30)\n",
    "print(features_list)\n",
    "\n",
    "print('-'*30)\n",
    "print('Keys in \"my_dataset\":')\n",
    "print('-'*30)\n",
    "\n",
    "for key in my_dataset[person].keys():\n",
    "    print(key)"
   ]
  },
  {
   "cell_type": "markdown",
   "metadata": {},
   "source": [
    "<a id='Section4'></a>"
   ]
  },
  {
   "cell_type": "markdown",
   "metadata": {},
   "source": [
    "## Section 4: Feature Selection\n",
    "\n",
    "Let's use SelectPercentile to find the top x% variables."
   ]
  },
  {
   "cell_type": "code",
   "execution_count": 6,
   "metadata": {
    "scrolled": true
   },
   "outputs": [
    {
     "data": {
      "image/png": "[encoded data removed]",
      "text/plain": [
       "<Figure size 432x288 with 1 Axes>"
      ]
     },
     "metadata": {
      "needs_background": "light"
     },
     "output_type": "display_data"
    },
    {
     "name": "stdout",
     "output_type": "stream",
     "text": [
      "salary:  4.458636238488813\n",
      "deferral_payments:  0.19635060312299754\n",
      "total_payments:  2.4449870742699775\n",
      "loan_advances:  2.0845025040037384\n",
      "bonus:  4.958094860652936\n",
      "restricted_stock_deferred:  0.09779108176680255\n",
      "deferred_income:  3.035251788309274\n",
      "total_stock_value:  5.61900858422821\n",
      "expenses:  1.8309666095033812\n",
      "exercised_stock_options:  5.740357181466678\n",
      "other:  1.3707765246201635\n",
      "long_term_incentive:  2.7002353724637613\n",
      "restricted_stock:  2.543208542735528\n",
      "director_fees:  0.8326498339070421\n",
      "to_messages:  0.6955899398546326\n",
      "from_poi_to_this_person:  1.6286759410029752\n",
      "from_messages:  0.1668507833133156\n",
      "from_this_person_to_poi:  0.9033205384408002\n",
      "shared_receipt_with_poi:  2.40386464353768\n",
      "salary_ratio:  0.9855931657286244\n",
      "expenses_ratio:  0.1385905819491767\n",
      "exercised_stock_ratio:  0.07691494332921386\n"
     ]
    }
   ],
   "source": [
    "### Extract features and labels from dataset for local testing\n",
    "data = featureFormat(my_dataset, target_label + features_list, sort_keys = True)\n",
    "l, f = targetFeatureSplit(data)\n",
    "\n",
    "# First, try using SelectKBest to find the best features.\n",
    "from sklearn.feature_selection import SelectKBest, f_classif, SelectPercentile\n",
    "\n",
    "# Perform feature selection\n",
    "selector = SelectPercentile(f_classif, percentile=10)\n",
    "selector.fit(f, l)\n",
    "\n",
    "# Get the raw p-values for each feature, and transform from p-values into scores\n",
    "scores = -np.log10(selector.pvalues_)\n",
    "\n",
    "# Plot the scores. \n",
    "matplotlib.pyplot.bar(range(len(features_list)), scores)\n",
    "matplotlib.pyplot.xticks(range(len(features_list)), features_list, rotation='vertical')\n",
    "matplotlib.pyplot.show()\n",
    "\n",
    "for i,j in zip(features_list,scores):\n",
    "    print(i + \": \", str(j))"
   ]
  },
  {
   "cell_type": "markdown",
   "metadata": {},
   "source": [
    "From the SelectPercentile list, the most important features seem to be:\n",
    "\n",
    "[\"salary\", \"bonus\", \"exercised_stock_options\", \"total_stock_value\", \"deferred_income\"]\n",
    "\n",
    "Update our features_list accordingly, and use this as a basic list to trial for a few models.\n",
    "\n",
    "Initially, I went for a larger feature list and tried to include my 3 new variables. FYI, here are the results:\n"
   ]
  },
  {
   "cell_type": "markdown",
   "metadata": {},
   "source": [
    "<a id='Section5'></a>"
   ]
  },
  {
   "cell_type": "markdown",
   "metadata": {},
   "source": [
    "## Section 5: Model Data Preparation\n",
    "\n",
    "In this section, we're going to create a *model_features_list* and subset our initial dictionary. Remember to keep POI at the beginning of the data, that's pretty important.\n",
    "\n",
    "Here's the StackOverflow page where I learned how to use SSS:\n",
    "https://stackoverflow.com/questions/29438265/stratified-train-test-split-in-scikit-learn"
   ]
  },
  {
   "cell_type": "code",
   "execution_count": 7,
   "metadata": {
    "scrolled": true
   },
   "outputs": [
    {
     "name": "stdout",
     "output_type": "stream",
     "text": [
      "Number of labels in our labels data:\n",
      "18.0\n",
      "Number of people in our overall data:\n",
      "139.0\n"
     ]
    }
   ],
   "source": [
    "model_features_list =  [\"salary\", \"bonus\", \"exercised_stock_options\", \"total_stock_value\", \"deferred_income\"]\n",
    "\n",
    "### Extract features and labels from dataset for local testing\n",
    "data = featureFormat(my_dataset, target_label + model_features_list, sort_keys = True)\n",
    "labels, features = targetFeatureSplit(data)\n",
    "\n",
    "print(\"Number of labels in our labels data:\")\n",
    "print(sum(labels)*1.0)\n",
    "\n",
    "print(\"Number of people in our overall data:\")\n",
    "print(len(features)*1.0)"
   ]
  },
  {
   "cell_type": "markdown",
   "metadata": {},
   "source": [
    "<a id='Section6'></a>"
   ]
  },
  {
   "cell_type": "markdown",
   "metadata": {},
   "source": [
    "## Section 6: Classifier Selection and Testing\n",
    "\n",
    "Classifier selection is tricky. Let's try out a bunch of classifiers and append to a dataset manually to compare some results! What gives us a decent enough accuracy score?\n",
    "\n",
    "Using SSS:\n",
    "https://stackoverflow.com/questions/46598301/how-to-compute-precision-recall-and-f1-score-of-an-imbalanced-dataset-for-k-fold"
   ]
  },
  {
   "cell_type": "code",
   "execution_count": 8,
   "metadata": {
    "scrolled": false
   },
   "outputs": [
    {
     "name": "stdout",
     "output_type": "stream",
     "text": [
      "------------------------------\n",
      "Overall results: \n",
      "------------------------------\n",
      "Features used: ['salary', 'bonus', 'exercised_stock_options', 'total_stock_value', 'deferred_income']\n",
      "          DecisionTree RandomForest GuassianNB  AdaBoost KNearestNeighbours\n",
      "accuracy      0.847826     0.869565   0.891304  0.869565           0.847826\n",
      "f1_score      0.363636         0.25   0.545455       0.4                  0\n",
      "precision          0.4          0.5        0.6       0.5                  0\n",
      "recall        0.333333     0.166667        0.5  0.333333                  0\n"
     ]
    }
   ],
   "source": [
    "### Task 4: Try a varity of classifiers\n",
    "### Please name your classifier clf for easy export below.\n",
    "### Note that if you want to do PCA or other multi-stage operations,\n",
    "### you'll need to use Pipelines. For more info:\n",
    "### http://scikit-learn.org/stable/modules/pipeline.html\n",
    "from sklearn.tree import DecisionTreeClassifier\n",
    "from sklearn.ensemble import RandomForestClassifier\n",
    "from sklearn.naive_bayes import GaussianNB\n",
    "from sklearn.ensemble import AdaBoostClassifier\n",
    "from sklearn.neighbors import KNeighborsClassifier\n",
    "\n",
    "from sklearn.model_selection import StratifiedShuffleSplit, cross_validate\n",
    "from sklearn.metrics import make_scorer, accuracy_score, precision_score, recall_score, f1_score,confusion_matrix\n",
    "\n",
    "sss = StratifiedShuffleSplit(n_splits=1, random_state=42, test_size=0.33)\n",
    "\n",
    "# Check for just one example before we try to loop.\n",
    "# clf_name = \"Random Forest\"\n",
    "# clf_obj = RandomForestClassifier(n_estimators=10)\n",
    "\n",
    "# Loop version\n",
    "\n",
    "clf_names = [\n",
    "    \"DecisionTree\"\n",
    "    ,\"RandomForest\"\n",
    "#     ,\"SVM\"\n",
    "    ,\"GuassianNB\"\n",
    "#     ,\"KMeans\"\n",
    "    ,\"AdaBoost\"\n",
    "    ,\"KNearestNeighbours\"\n",
    "]\n",
    "\n",
    "clf_objects = [\n",
    "    DecisionTreeClassifier()\n",
    "    ,RandomForestClassifier(n_estimators=10)\n",
    "#     ,svm.SVC(gamma='auto')\n",
    "    ,GaussianNB()\n",
    "#     ,KMeans()\n",
    "    ,AdaBoostClassifier()\n",
    "    ,KNeighborsClassifier()\n",
    "]\n",
    "\n",
    "clf_features = model_features_list\n",
    "\n",
    "# Create a clf_results_df as empty first before we start looping.\n",
    "clf_results_df = pd.DataFrame(columns=['clf_name',\n",
    "                                       'precision','recall','accuracy','f1_score'])\n",
    "\n",
    "for clf_name, clf_obj in zip(clf_names, clf_objects):\n",
    "    scoring = {'accuracy' : make_scorer(accuracy_score), \n",
    "               'precision' : make_scorer(precision_score),\n",
    "               'recall' : make_scorer(recall_score), \n",
    "               'f1_score' : make_scorer(f1_score)}\n",
    "\n",
    "    results = cross_validate(estimator=clf_obj,\n",
    "                                X=features,\n",
    "                                y=labels,\n",
    "                                cv=sss,\n",
    "                                scoring=scoring)\n",
    "\n",
    "# Load this data into a temporary pandas dataframe\n",
    "    scores_df = pd.DataFrame()\n",
    "    scores_df['clf_name'] = [clf_name]\n",
    "#     scores_df['clf_features'] = [clf_features]\n",
    "\n",
    "    scores_df['precision'] = np.mean(results['test_precision'])\n",
    "    scores_df['recall'] = [np.mean(results['test_recall'])]\n",
    "    scores_df['accuracy'] = [np.mean(results['test_accuracy'])]\n",
    "    scores_df['f1_score'] = [np.mean(results['test_f1_score'])]\n",
    "\n",
    "    # Make the clf_name the index of this dataframe\n",
    "    scores_df.set_index('clf_name')\n",
    "\n",
    "    clf_results_df = clf_results_df.append(scores_df, sort='False')\n",
    "\n",
    "# Do some final formatting to the table, and output the feature list to show how this list performs against each CLF.\n",
    "print('-'*30)\n",
    "print(\"Overall results: \")\n",
    "print('-'*30)\n",
    "clf_results_final = clf_results_df.transpose()\n",
    "\n",
    "clf_results_final.columns = clf_names\n",
    "clf_results_final.drop(['clf_name'], inplace=True)\n",
    "\n",
    "print('Features used:', clf_features)\n",
    "print(clf_results_final.to_string())\n",
    "\n",
    "# print(clf_results_final)"
   ]
  },
  {
   "cell_type": "markdown",
   "metadata": {},
   "source": [
    "###### The above cell was rerun with multiple feature lists, to show the impact of adding the created \n",
    "\n",
    "```python\n",
    "------------------------------\n",
    "Overall results: \n",
    "------------------------------\n",
    "Features used: ['salary', 'bonus', 'exercised_stock_options', 'total_stock_value', 'deferred_income']\n",
    "          DecisionTree RandomForest GuassianNB  AdaBoost KNearestNeighbours\n",
    "accuracy      0.847826     0.891304   0.891304  0.869565           0.847826\n",
    "f1_score      0.363636     0.444444   0.545455       0.4                  0\n",
    "precision          0.4     0.666667        0.6       0.5                  0\n",
    "recall        0.333333     0.333333        0.5  0.333333                  0\n",
    "\n",
    "------------------------------\n",
    "With salary_ratio: \n",
    "------------------------------\n",
    "Features used: ['salary', 'bonus', 'exercised_stock_options', 'total_stock_value', 'deferred_income', 'salary_ratio']\n",
    "          DecisionTree RandomForest GuassianNB  AdaBoost KNearestNeighbours\n",
    "accuracy      0.826087     0.913043   0.891304  0.804348           0.847826\n",
    "f1_score      0.333333          0.5   0.545455  0.307692                  0\n",
    "precision     0.333333            1        0.6  0.285714                  0\n",
    "recall        0.333333     0.333333        0.5  0.333333                  0\n",
    "\n",
    "------------------------------\n",
    "With expenses_ratio: \n",
    "------------------------------\n",
    "Features used: ['salary', 'bonus', 'exercised_stock_options', 'total_stock_value', 'deferred_income', 'expenses_ratio']\n",
    "          DecisionTree RandomForest GuassianNB  AdaBoost KNearestNeighbours\n",
    "accuracy      0.847826     0.891304   0.891304  0.869565           0.847826\n",
    "f1_score      0.222222     0.444444   0.545455       0.4                  0\n",
    "precision     0.333333     0.666667        0.6       0.5                  0\n",
    "recall        0.166667     0.333333        0.5  0.333333                  0\n",
    "\n",
    "------------------------------\n",
    "With exercised_stock_ratio: \n",
    "------------------------------\n",
    "Features used: ['salary', 'bonus', 'exercised_stock_options', 'total_stock_value', 'deferred_income', 'exercised_stock_ratio']\n",
    "          DecisionTree RandomForest GuassianNB  AdaBoost KNearestNeighbours\n",
    "accuracy      0.826087     0.869565   0.891304  0.804348           0.847826\n",
    "f1_score      0.333333         0.25   0.545455  0.307692                  0\n",
    "precision     0.333333          0.5        0.6  0.285714                  0\n",
    "recall        0.333333     0.166667        0.5  0.333333                  0\n",
    "```"
   ]
  },
  {
   "cell_type": "markdown",
   "metadata": {},
   "source": [
    "It looks like the best models to use, based on our initial *model_features_list*, are:\n",
    "\n",
    "1. Decision Tree\n",
    "2. Random Forest\n",
    "3. Gaussian NB\n",
    "4. Adaboost\n",
    "\n",
    "Though in terms of lists, adding our 3 created variables didn't really do much apart from increasing , so we'll just keep the original list."
   ]
  },
  {
   "cell_type": "markdown",
   "metadata": {},
   "source": [
    "<a id='Section7'></a>"
   ]
  },
  {
   "cell_type": "markdown",
   "metadata": {},
   "source": [
    "## Section 7: Parameter Tuning\n",
    "\n",
    "Tune the parameters. Maybe try GridsearchCV as explained here on Kaggle:\n",
    "\n",
    "https://www.kaggle.com/evanmiller/pipelines-gridsearch-awesome-ml-pipelines"
   ]
  },
  {
   "cell_type": "code",
   "execution_count": 9,
   "metadata": {},
   "outputs": [
    {
     "name": "stdout",
     "output_type": "stream",
     "text": [
      "Best score and parameter combination = \n",
      "0.6\n",
      "{'clf__criterion': 'gini', 'clf__max_depth': 15, 'clf__min_samples_split': 10, 'clf__n_estimators': 25}\n"
     ]
    }
   ],
   "source": [
    "### Task 5: Tune your classifier to achieve better than .3 precision and recall \n",
    "### using our testing script. Check the tester.py script in the final project\n",
    "### folder for details on the evaluation method, especially the test_classifier\n",
    "### function. Because of the small size of the dataset, the script uses\n",
    "### stratified shuffle split cross validation. For more info: \n",
    "### http://scikit-learn.org/stable/modules/generated/sklearn.cross_validation.StratifiedShuffleSplit.html\n",
    "\n",
    "# Example starting point. Try investigating other evaluation techniques!\n",
    "from sklearn.model_selection import GridSearchCV\n",
    "from sklearn.pipeline import Pipeline, FeatureUnion\n",
    "\n",
    "pipeline = Pipeline([\n",
    "#         ('clf', AdaBoostClassifier())\n",
    "#         ('clf', DecisionTreeClassifier())\n",
    "        ('clf', RandomForestClassifier())\n",
    "#         ('clf', GaussianNB())\n",
    "\n",
    "    ])\n",
    "\n",
    "parameters = {\n",
    "#         ADABOOST\n",
    "#         'clf__algorithm': ['SAMME', 'SAMME.R'],\n",
    "#         'clf__n_estimators': [25, 50, 100],\n",
    "#         'clf__learning_rate': [.5, 1., 1.5]\n",
    "    \n",
    "#         DECISION TREE\n",
    "#           'clf__max_depth': [3, 6, 9, 12, 15, 20],\n",
    "#           'clf__min_samples_leaf': [1, 5, 10, 20, 50, 100]\n",
    "\n",
    "#         RANDOM FOREST\n",
    "        'clf__n_estimators': [25, 30, 50, 80, 100],\n",
    "        'clf__min_samples_split': [2, 4, 6, 8, 10],\n",
    "        'clf__criterion': ['gini', 'entropy'],\n",
    "        'clf__max_depth': [3, 6, 9, 12, 15, 20]\n",
    "    \n",
    "        # GAUSSIAN NB\n",
    "        # None, since GaussianNB only requires 'prior' as a thingie.\n",
    "}\n",
    "\n",
    "CV = GridSearchCV(pipeline, parameters, scoring = 'f1', cv=sss)\n",
    "\n",
    "CV.fit(features, labels)   \n",
    "\n",
    "print('Best score and parameter combination = ')\n",
    "\n",
    "print(CV.best_score_)    \n",
    "print(CV.best_params_)   "
   ]
  },
  {
   "cell_type": "markdown",
   "metadata": {},
   "source": [
    "Results of each algorithm through the GridSearchCV are as follows:\n",
    "```Python\n",
    "\n",
    "Adaboost:\n",
    "Best score and parameter combination = \n",
    "0.4444444444444444\n",
    "{'clf__algorithm': 'SAMME', 'clf__learning_rate': 1.0, 'clf__n_estimators': 25}\n",
    "\n",
    "Decision Tree: (no predicted samples present)\n",
    "Best score and parameter combination = \n",
    "0.4444444444444444\n",
    "{'clf__max_depth': 3, 'clf__min_samples_leaf': 5}\n",
    "\n",
    "Random Forest: (no predicted samples present)\n",
    "Best score and parameter combination = \n",
    "0.6666666666666666\n",
    "{'clf__criterion': 'gini', 'clf__max_depth': 15, 'clf__min_samples_split': 6, 'clf__n_estimators': 25}\n",
    "    \n",
    "\n",
    "Gaussian NB:\n",
    "Best score and parameter combination = \n",
    "0.5454545454545454\n",
    "{}\n",
    "```"
   ]
  },
  {
   "cell_type": "markdown",
   "metadata": {},
   "source": [
    "So from our 3 tunable classifiers, the two that worked out the best for maximising f1_score were Random Forest and Gaussian NB. Since the Random Forest didn't turn up with any predicted values, I'm going to go ahead and dump that one too. Let's go with GaussianNB."
   ]
  },
  {
   "cell_type": "markdown",
   "metadata": {},
   "source": [
    "<a id='Section8'></a>"
   ]
  },
  {
   "cell_type": "markdown",
   "metadata": {},
   "source": [
    "## Section 8: Final model creation\n",
    "\n",
    "Pick the best model from the above iterations and go with that."
   ]
  },
  {
   "cell_type": "code",
   "execution_count": 13,
   "metadata": {},
   "outputs": [
    {
     "name": "stdout",
     "output_type": "stream",
     "text": [
      "      clf_name                                       clf_features  precision  recall  accuracy  f1_score\n",
      "0  Gaussian NB  salary,bonus,exercised_stock_options,total_sto...        0.6     0.5  0.891304  0.545455\n"
     ]
    }
   ],
   "source": [
    "clf = GaussianNB()\n",
    "# clf.fit(feature_train, target_train)\n",
    "\n",
    "# pred = clf.predict(feature_test)\n",
    "\n",
    "clf_name = 'Gaussian NB'\n",
    "clf_parameters = \"None\"\n",
    "clf_features = \",\".join(model_features_list)\n",
    "\n",
    "scoring = {'accuracy' : make_scorer(accuracy_score), \n",
    "           'precision' : make_scorer(precision_score),\n",
    "           'recall' : make_scorer(recall_score), \n",
    "           'f1_score' : make_scorer(f1_score)}\n",
    "\n",
    "results = cross_validate(estimator=clf,\n",
    "                            X=features,\n",
    "                            y=labels,\n",
    "                            cv=sss,\n",
    "                            scoring=scoring)\n",
    "\n",
    "#     print(results)\n",
    "\n",
    "#     Load this data into a temporary pandas dataframe\n",
    "final_model_scores_df = pd.DataFrame()\n",
    "final_model_scores_df['clf_name'] = [clf_name]\n",
    "final_model_scores_df['clf_features'] = [clf_features]\n",
    "\n",
    "final_model_scores_df['precision'] = np.mean(results['test_precision'])\n",
    "final_model_scores_df['recall'] = [np.mean(results['test_recall'])]\n",
    "final_model_scores_df['accuracy'] = [np.mean(results['test_accuracy'])]\n",
    "final_model_scores_df['f1_score'] = [np.mean(results['test_f1_score'])]\n",
    "\n",
    "print(final_model_scores_df.to_string())"
   ]
  },
  {
   "cell_type": "code",
   "execution_count": 11,
   "metadata": {},
   "outputs": [],
   "source": [
    "### Task 6: Dump your classifier, dataset, and features_list so anyone can\n",
    "### check your results. You do not need to change anything below, but make sure\n",
    "### that the version of poi_id.py that you submit can be run on its own and\n",
    "### generates the necessary .pkl files for validating your results.\n",
    "\n",
    "dump_classifier_and_data(clf, my_dataset, target_label + model_features_list)\n",
    "\n",
    "# pickle.dump(clf, open(\"my_classifier.pkl\", \"wb\") )\n",
    "# pickle.dump(data_dict, open(\"my_dataset.pkl\", \"wb\") )\n",
    "# pickle.dump(model_features_list, open(\"my_feature_list.pkl\", \"wb\") )"
   ]
  },
  {
   "cell_type": "markdown",
   "metadata": {},
   "source": [
    "Final tester results for Random Forest:\n",
    "``` python\n",
    "RandomForestClassifier(bootstrap=True, class_weight=None, criterion='gini',\n",
    "            max_depth=6, max_features='auto', max_leaf_nodes=None,\n",
    "            min_impurity_decrease=0.0, min_impurity_split=None,\n",
    "            min_samples_leaf=1, min_samples_split=4,\n",
    "            min_weight_fraction_leaf=0.0, n_estimators=80, n_jobs=None,\n",
    "            oob_score=False, random_state=None, verbose=0,\n",
    "            warm_start=False)\n",
    "\n",
    "\tAccuracy: 0.86500\tPrecision: 0.56707\tRecall: 0.23250\tF1: 0.32979\tF2: 0.26361\n",
    "\tTotal predictions: 14000\tTrue positives:  465\tFalse positives:  355\tFalse negatives: 1535\tTrue negatives: 11645\n",
    "\n",
    "```\n",
    "Final tester results for NB:\n",
    "``` python\n",
    "\n",
    "GaussianNB(priors=None, var_smoothing=1e-09)\n",
    "\tAccuracy: 0.85464\tPrecision: 0.48876\tRecall: 0.38050\tF1: 0.42789\tF2: 0.39814\n",
    "\tTotal predictions: 14000\tTrue positives:  761\tFalse positives:  796\tFalse negatives: 1239\tTrue negatives: 11204\n",
    "```"
   ]
  },
  {
   "cell_type": "markdown",
   "metadata": {},
   "source": [
    "## Conclusion\n",
    "\n",
    "Conclusion text here."
   ]
  }
 ],
 "metadata": {
  "kernelspec": {
   "display_name": "Python 3",
   "language": "python",
   "name": "python3"
  },
  "language_info": {
   "codemirror_mode": {
    "name": "ipython",
    "version": 3
   },
   "file_extension": ".py",
   "mimetype": "text/x-python",
   "name": "python",
   "nbconvert_exporter": "python",
   "pygments_lexer": "ipython3",
   "version": "3.7.1"
  }
 },
 "nbformat": 4,
 "nbformat_minor": 2
}
