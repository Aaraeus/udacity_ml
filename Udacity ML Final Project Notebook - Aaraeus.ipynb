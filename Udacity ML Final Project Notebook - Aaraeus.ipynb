{
 "cells": [
  {
   "cell_type": "markdown",
   "metadata": {},
   "source": [
    "# Person of Interest Model\n",
    "## Udacity's Introduction to Machine Learning course\n",
    "###### Written by aaraeus"
   ]
  },
  {
   "cell_type": "markdown",
   "metadata": {},
   "source": [
    "## TO DO LIST: (Updated 03/03/2019)\n",
    "\n",
    "Alright, so we've figured out AdaBoost might be our best bet, but I'm pretty sure that the lack of POIs in the Y data is what's killing our results here. I've used GridSearchCV() to tune a few parameters, but these classifiers are really as only good as the train/test data I feed it!\n",
    "\n",
    "I need to read up on StratifiedShuffleSplit(), which is what the tester code is using. But for now... sleep.\n",
    "\n",
    "**Other helpful repositories as of 2019**\n",
    "- https://github.com/tybyers/Udacity_IntroMachineLearning/blob/master/Question_Responses.ipynb\n",
    "\n",
    "- https://github.com/soukiassianb/Udacity-Machine-Learning-Enron-Dataset/blob/master/poi_id.ipynb\n",
    "\n",
    "- https://devpost.com/software/enron-identify-fraud"
   ]
  },
  {
   "cell_type": "markdown",
   "metadata": {},
   "source": [
    "## Introduction\n",
    "The goal here is to identify whether someone might be a person of interest in a fraud investigation into the Enron scandal. Enron was a company that committed a large amount of fraudulent activities, effectively rigging the market to create profit. The question we are trying to solve is, what other people, aside from the people already identified as a POI from previous litigation action, could have been actively and knowingly involved? Since we have a large amount of open data, including emails, we can train a machine learning model to look at these features and attempt to predict whether someone is a person of interest or not. "
   ]
  },
  {
   "cell_type": "markdown",
   "metadata": {},
   "source": [
    "## Section 1: Initialisation, data loading and imports\n",
    "\n",
    "Here we're just initialising the working directory to make editing items a little easier. I've placed all the features into their own lists, and then created a final features list to work with."
   ]
  },
  {
   "cell_type": "code",
   "execution_count": 395,
   "metadata": {},
   "outputs": [],
   "source": [
    "# define the path of the directory in here\n",
    "path = '/Users/kintesh/Documents/udacity_ml/python3'\n",
    "\n",
    "import sys\n",
    "import pickle\n",
    "import os\n",
    "import pandas as pd\n",
    "import matplotlib.pyplot\n",
    "import seaborn as sn\n",
    "import numpy as np\n",
    "\n",
    "os.chdir(path)\n",
    "\n",
    "sys.path.append(\"ud120-projects/tools/\")\n",
    "sys.path.append(\"ud120-projects/final_project/\")\n",
    "\n",
    "from feature_format import featureFormat, targetFeatureSplit\n",
    "from tester import dump_classifier_and_data\n",
    "\n",
    "### Task 1: Select what features you'll use.\n",
    "### features_list is a list of strings, each of which is a feature name.\n",
    "### The first feature must be \"poi\".\n",
    "\n",
    "financial_features_list = [\"salary\", \"deferral_payments\", \"total_payments\", \"loan_advances\", \n",
    "                           \"bonus\", \"restricted_stock_deferred\", \"deferred_income\", \n",
    "                           \"total_stock_value\", \"expenses\", \"exercised_stock_options\", \n",
    "                           \"other\", \"long_term_incentive\", \"restricted_stock\", \"director_fees\"]\n",
    "\n",
    "email_features_list = [\"to_messages\", \"from_poi_to_this_person\",\n",
    "                       \"from_messages\", \"from_this_person_to_poi\", \"shared_receipt_with_poi\"]\n",
    "\n",
    "target_label = [\"poi\"]\n",
    "\n",
    "full_features_list = target_label + financial_features_list + email_features_list\n",
    "features_list = financial_features_list + email_features_list\n",
    "financial_features_list = target_label + financial_features_list\n",
    "email_features_list = target_label + email_features_list\n",
    "\n",
    "### Load the dictionary containing the dataset\n",
    "data_dict = pickle.load(open(\"ud120-projects/final_project/final_project_dataset.pkl\", \"rb\") )"
   ]
  },
  {
   "cell_type": "markdown",
   "metadata": {},
   "source": [
    "## Section 2: Outlier identification & removal\n",
    "\n",
    "The first step of any machine learning project is to start graphing some data to check for outliers. The most obvious starting point is to chart salary and bonus as we did earlier in the course, so let's do that first.\n",
    "\n",
    "There are two obvious outliers. \"The Travel Agency In The Park\" isn't a persion, so let's remove this.\n",
    "\n",
    "Also, \"Mr Eugene E Lockhart\" doesn't contribute anything to the dataset since his values are all empty!"
   ]
  },
  {
   "cell_type": "code",
   "execution_count": 396,
   "metadata": {},
   "outputs": [
    {
     "name": "stdout",
     "output_type": "stream",
     "text": [
      "Mr Lockhart's values:\n",
      "{'salary': 'NaN', 'to_messages': 'NaN', 'deferral_payments': 'NaN', 'total_payments': 'NaN', 'loan_advances': 'NaN', 'bonus': 'NaN', 'email_address': 'NaN', 'restricted_stock_deferred': 'NaN', 'deferred_income': 'NaN', 'total_stock_value': 'NaN', 'expenses': 'NaN', 'from_poi_to_this_person': 'NaN', 'exercised_stock_options': 'NaN', 'from_messages': 'NaN', 'other': 'NaN', 'from_this_person_to_poi': 'NaN', 'poi': False, 'long_term_incentive': 'NaN', 'shared_receipt_with_poi': 'NaN', 'restricted_stock': 'NaN', 'director_fees': 'NaN'}\n"
     ]
    },
    {
     "data": {
      "image/png": "[encoded data removed]",
      "text/plain": [
       "<Figure size 432x288 with 1 Axes>"
      ]
     },
     "metadata": {},
     "output_type": "display_data"
    }
   ],
   "source": [
    "### Task 2: Remove outliers\n",
    "sys.path.append(\"ud120-projects/outliers/\")\n",
    "from outlier_cleaner import outlierCleaner\n",
    "\n",
    "features = [\"salary\", \"bonus\"]\n",
    "\n",
    "# Remove the TOTAL key, since this is going to skew our results. Also remove the \n",
    "#\"travel agency in the park\" record since that isn't a person.\n",
    "print(\"Mr Lockhart's values:\")\n",
    "print(data_dict['LOCKHART EUGENE E'])\n",
    "\n",
    "data_dict.pop('TOTAL', 0)\n",
    "data_dict.pop(\"THE TRAVEL AGENCY IN THE PARK\", 0)\n",
    "data_dict.pop('LOCKHART EUGENE E', 0)\n",
    "\n",
    "data = featureFormat(data_dict, features)\n",
    "\n",
    "for point in data:\n",
    "    salary = point[0]\n",
    "    bonus = point[1]\n",
    "    matplotlib.pyplot.scatter( salary, bonus )\n",
    "\n",
    "matplotlib.pyplot.xlabel(\"salary\")\n",
    "matplotlib.pyplot.ylabel(\"bonus\")\n",
    "matplotlib.pyplot.show()"
   ]
  },
  {
   "cell_type": "code",
   "execution_count": 397,
   "metadata": {},
   "outputs": [
    {
     "name": "stdout",
     "output_type": "stream",
     "text": [
      "--------------------\n",
      "Salary outliers:\n",
      "--------------------\n",
      "Name:  LAY KENNETH L\n",
      "Salary:  1072321\n",
      "Name:  SKILLING JEFFREY K\n",
      "Salary:  1111258\n",
      "Name:  PICKERING MARK R\n",
      "Salary:  655037\n",
      "Name:  FREVERT MARK A\n",
      "Salary:  1060932\n",
      "--------------------\n",
      "Bonus outliers:\n",
      "--------------------\n",
      "Name:  LAVORATO JOHN J\n",
      "Bonus:  8000000\n",
      "Name:  LAY KENNETH L\n",
      "Bonus:  7000000\n",
      "Name:  BELDEN TIMOTHY N\n",
      "Bonus:  5249999\n",
      "Name:  SKILLING JEFFREY K\n",
      "Bonus:  5600000\n",
      "Name:  ALLEN PHILLIP K\n",
      "Bonus:  4175000\n",
      "--------------------\n",
      "Salary & Bonus outliers:\n",
      "--------------------\n",
      "Name:  LAY KENNETH L\n",
      "Salary:  1072321\n",
      "Bonus:  7000000\n",
      "Name:  SKILLING JEFFREY K\n",
      "Salary:  1111258\n",
      "Bonus:  5600000\n"
     ]
    }
   ],
   "source": [
    "# Find other outliers if I can. Loop through everyone, \n",
    "# and output those that have salaries above 600k and bonuses above 4m.\n",
    "\n",
    "#First, find salary outliers.\n",
    "print('-'*20)\n",
    "print('Salary outliers:')\n",
    "print('-'*20)\n",
    "for names, value in data_dict.items():\n",
    "    if data_dict[names][\"salary\"] != 'NaN' and data_dict[names][\"salary\"] >= 600000:\n",
    "        print(\"Name: \", names)\n",
    "        print(\"Salary: \", value['salary'])\n",
    "    \n",
    "print('-'*20)\n",
    "print('Bonus outliers:')\n",
    "print('-'*20)\n",
    "\n",
    "#Second, find bonus outliers.\n",
    "for names, value in data_dict.items():\n",
    "    if data_dict[names][\"bonus\"] != 'NaN' and data_dict[names][\"bonus\"] >= 4000000:\n",
    "        print(\"Name: \", names)\n",
    "        print(\"Bonus: \", value['bonus'])\n",
    "        \n",
    "print('-'*20)\n",
    "print('Salary & Bonus outliers:')\n",
    "print('-'*20)\n",
    "\n",
    "#Third, look at the combination of the two.\n",
    "for names, value in data_dict.items():\n",
    "    if data_dict[names][\"bonus\"] != 'NaN' and data_dict[names][\"bonus\"] >= 4000000 and data_dict[names][\"salary\"] != 'NaN' and data_dict[names][\"salary\"] >= 600000:\n",
    "        print(\"Name: \", names)\n",
    "        print(\"Salary: \", value['salary'])\n",
    "        print(\"Bonus: \", value['bonus'])"
   ]
  },
  {
   "cell_type": "markdown",
   "metadata": {},
   "source": [
    "Here I'm making a judgement call to keep these people, like Kenneth Lay and Jevvrey Skilling, in our dataset. The people with the highest salaries were, in fact, POIs, so it does make sense to keep them in the data, despite the fact that they are outliers and may skew our model slightly. Models can never be completely rid of bias."
   ]
  },
  {
   "cell_type": "markdown",
   "metadata": {},
   "source": [
    "## Section 3: Create new features\n",
    "\n",
    "Here, we're creating new features and adding their name to our features_list."
   ]
  },
  {
   "cell_type": "markdown",
   "metadata": {},
   "source": [
    "Create some new features below and test them out in our feature importance list.\n",
    "\n",
    "I want to create:\n",
    "\n",
    "1. A Salary Ratio, which is your salary as a % of total payments. Are people who had a low salary ratio (i.e. had ridiculously high total payments) more likely to be a POI? Kenneth Lay certainly did.\n",
    "\n",
    "2. Expenses ratio, so the expenses as a % of the total salary. Did people who had higher expenses get cozy in the knowledge that they'd uncovered something special? \n",
    "\n",
    "3. Exercised Stock Ratio, which is exercised stock options as a proportion of total stock (exercised stock options, restricted stock, restricted stock deferred). Maybe people who knew about the 'scam' tried to exercise all their stock towards the fall of Enron?"
   ]
  },
  {
   "cell_type": "code",
   "execution_count": 398,
   "metadata": {},
   "outputs": [],
   "source": [
    "### Task 3: Create new feature(s)\n",
    "\n",
    "for person in data_dict:\n",
    "    # Salary Ratio\n",
    "    if data_dict[person]['salary'] == 'NaN' or data_dict[person]['total_payments'] == 'NaN':\n",
    "            data_dict[person]['salary_ratio'] = '0'\n",
    "    else:\n",
    "        data_dict[person]['salary_ratio'] = float(data_dict[person]['salary']) / float(data_dict[person]['total_payments'])\n",
    "    \n",
    "    # Expenses Ratio\n",
    "    if data_dict[person]['expenses'] == 'NaN' or data_dict[person]['salary'] == 'NaN':\n",
    "            data_dict[person]['expenses_ratio'] = '0'\n",
    "    else:\n",
    "        data_dict[person]['expenses_ratio'] = float(data_dict[person]['expenses']) / float(data_dict[person]['salary'])        \n",
    "    \n",
    "    # Exercised Stock Ratio\n",
    "    if data_dict[person]['exercised_stock_options'] == 'NaN' or data_dict[person]['total_stock_value'] == 'NaN':\n",
    "            data_dict[person]['exercised_stock_ratio'] = '0'\n",
    "    else:\n",
    "        data_dict[person]['exercised_stock_ratio'] = float(data_dict[person]['exercised_stock_options']) / float(data_dict[person]['total_stock_value'])\n",
    "\n",
    "# Add these features to my features_list\n",
    "features_list.append('salary_ratio')\n",
    "features_list.append('expenses_ratio')\n",
    "features_list.append('exercised_stock_ratio')"
   ]
  },
  {
   "cell_type": "code",
   "execution_count": 399,
   "metadata": {
    "scrolled": true
   },
   "outputs": [
    {
     "name": "stdout",
     "output_type": "stream",
     "text": [
      "------------------------------\n",
      "Features_list:\n",
      "------------------------------\n",
      "['salary', 'deferral_payments', 'total_payments', 'loan_advances', 'bonus', 'restricted_stock_deferred', 'deferred_income', 'total_stock_value', 'expenses', 'exercised_stock_options', 'other', 'long_term_incentive', 'restricted_stock', 'director_fees', 'to_messages', 'from_poi_to_this_person', 'from_messages', 'from_this_person_to_poi', 'shared_receipt_with_poi', 'salary_ratio', 'expenses_ratio', 'exercised_stock_ratio']\n",
      "------------------------------\n",
      "Keys in \"my_dataset\":\n",
      "------------------------------\n",
      "salary\n",
      "to_messages\n",
      "deferral_payments\n",
      "total_payments\n",
      "loan_advances\n",
      "bonus\n",
      "email_address\n",
      "restricted_stock_deferred\n",
      "deferred_income\n",
      "total_stock_value\n",
      "expenses\n",
      "from_poi_to_this_person\n",
      "exercised_stock_options\n",
      "from_messages\n",
      "other\n",
      "from_this_person_to_poi\n",
      "poi\n",
      "long_term_incentive\n",
      "shared_receipt_with_poi\n",
      "restricted_stock\n",
      "director_fees\n",
      "salary_ratio\n",
      "expenses_ratio\n",
      "exercised_stock_ratio\n"
     ]
    }
   ],
   "source": [
    "### Store to my_dataset for easy export below.\n",
    "my_dataset = data_dict\n",
    "\n",
    "# Print features_list and an example, to make sure the data has our created features in it.\n",
    "print('-'*30)\n",
    "print('Features_list:')\n",
    "print('-'*30)\n",
    "print(features_list)\n",
    "\n",
    "print('-'*30)\n",
    "print('Keys in \"my_dataset\":')\n",
    "print('-'*30)\n",
    "\n",
    "for key in my_dataset[person].keys():\n",
    "    print(key)\n",
    "    \n",
    "# print(my_dataset['LAY KENNETH L'])\n",
    "\n",
    "### Extract features and labels from dataset for local testing\n",
    "data = featureFormat(my_dataset, features_list, sort_keys = True)\n",
    "labels, features = targetFeatureSplit(data)"
   ]
  },
  {
   "cell_type": "markdown",
   "metadata": {},
   "source": [
    "## Section 4: Initial Feature Selection\n",
    "\n",
    "I'm going to use an ensemble classifer to find the rough importance of each feature, then use SelectKBest to give me rough idea of what features are most predictive. But first, put my *data_dict* into a dataframe since I need to split out the POI label and all our features into training and target datasets."
   ]
  },
  {
   "cell_type": "code",
   "execution_count": 400,
   "metadata": {},
   "outputs": [],
   "source": [
    "enron_df = pd.DataFrame.from_dict(data_dict)\n",
    "enron_df = enron_df.transpose()\n",
    "enron_df = enron_df.drop('email_address', 1)\n",
    "\n",
    "# Replace NaN values to 0 - some of these might be strings, so uh, try that too.\n",
    "enron_df.fillna(0, inplace=True)\n",
    "enron_df = enron_df.replace(\"NaN\", 0)\n",
    "\n",
    "#Splits the dataframe into a series (the poi column) and the rest of the dataframe, and replaces \"NaN\" with 0.\n",
    "poi_labels = enron_df['poi']\n",
    "no_pois = enron_df.drop('poi', 1)\n",
    "no_pois = no_pois.replace(\"NaN\", 0)\n",
    "\n",
    "# poi_labels.head(n=5)\n",
    "# no_pois.head(n=5)\n",
    "\n",
    "# Check YEAP SOON's data to see if we're OK\n",
    "\n",
    "# enron_df.loc['YEAP SOON']"
   ]
  },
  {
   "cell_type": "markdown",
   "metadata": {},
   "source": [
    "Now let's take a look at a DecisionTreeClassifier and find the feature importance for each variable."
   ]
  },
  {
   "cell_type": "code",
   "execution_count": 401,
   "metadata": {
    "scrolled": true
   },
   "outputs": [
    {
     "name": "stdout",
     "output_type": "stream",
     "text": [
      "------------------------------\n",
      "FEATURE IMPORTANCE %:\n",
      "------------------------------\n",
      "bonus = 10.91\n",
      "deferral_payments = 0.0\n",
      "deferred_income = 0.0\n",
      "director_fees = 0.0\n",
      "exercised_stock_options = 24.22\n",
      "exercised_stock_ratio = 0.0\n",
      "expenses = 6.49\n",
      "expenses_ratio = 0.0\n",
      "from_messages = 5.56\n",
      "from_poi_to_this_person = 0.0\n",
      "from_this_person_to_poi = 6.51\n",
      "loan_advances = 0.0\n",
      "long_term_incentive = 0.0\n",
      "other = 13.9\n",
      "restricted_stock = 17.02\n",
      "restricted_stock_deferred = 0.0\n",
      "salary = 0.0\n",
      "salary_ratio = 12.21\n",
      "shared_receipt_with_poi = 0.0\n",
      "to_messages = 0.0\n",
      "total_payments = 0.0\n",
      "total_stock_value = 3.18\n"
     ]
    }
   ],
   "source": [
    "from sklearn.tree import DecisionTreeClassifier\n",
    "\n",
    "model = DecisionTreeClassifier()\n",
    "model.fit(no_pois, poi_labels)\n",
    "\n",
    "print('-'*30)\n",
    "print('FEATURE IMPORTANCE %:')\n",
    "print('-'*30)\n",
    "for name, importance in zip(list(no_pois.columns.values), model.feature_importances_):\n",
    "    imp_perc = round(importance * 100,2)\n",
    "    print(name, \"=\", imp_perc)"
   ]
  },
  {
   "cell_type": "markdown",
   "metadata": {},
   "source": [
    "Now let's use SelectPercentile to find the top x% variables."
   ]
  },
  {
   "cell_type": "code",
   "execution_count": 402,
   "metadata": {
    "scrolled": true
   },
   "outputs": [
    {
     "data": {
      "image/png": "[encoded data removed]",
      "text/plain": [
       "<Figure size 432x288 with 1 Axes>"
      ]
     },
     "metadata": {},
     "output_type": "display_data"
    }
   ],
   "source": [
    "# First, try using SelectKBest to find the best features.\n",
    "from sklearn.feature_selection import SelectKBest, f_classif, SelectPercentile\n",
    "\n",
    "# Perform feature selection\n",
    "selector = SelectPercentile(f_classif, percentile=10)\n",
    "selector.fit(enron_df[features_list], enron_df['poi'])\n",
    "\n",
    "# Get the raw p-values for each feature, and transform from p-values into scores\n",
    "scores = -np.log10(selector.pvalues_)\n",
    "\n",
    "# Plot the scores. \n",
    "matplotlib.pyplot.bar(range(len(features_list)), scores)\n",
    "matplotlib.pyplot.xticks(range(len(features_list)), features_list, rotation='vertical')\n",
    "matplotlib.pyplot.show()"
   ]
  },
  {
   "cell_type": "markdown",
   "metadata": {},
   "source": [
    "From the importances list, you can see the most important features seem to be the following:\n",
    "\n",
    "['bonus','exercised_stock_options','expenses','from_messages','restricted_stock','salary_ratio']\n",
    "\n",
    "But from the SelectPercentile list, the most important features seem to be:\n",
    "\n",
    "['exercised_stock_options','total_stock_value','salary','bonus','expenses','from_poi_to_this_person']\n",
    "\n",
    "Update our features_list accordingly, and use this as a basic list to trial for a few models.\n",
    "\n",
    "Initially, I only went for the second list of six features... but as I started training my models, I realised my accuracy was high (80%+), but my precision and recall fell consistently short, which looks like a **high bias** situation. I therefore dedided to add a few more features, to see if this helped a little."
   ]
  },
  {
   "cell_type": "markdown",
   "metadata": {},
   "source": [
    "## Section 5: Data Preparation (Train/Test split)\n",
    "\n",
    "In this section, we're going to create a *model_features_list* and create two dataframes:\n",
    "- features_df\n",
    "- labels_df\n",
    "Nowe we can create a train/test split."
   ]
  },
  {
   "cell_type": "code",
   "execution_count": 403,
   "metadata": {
    "scrolled": true
   },
   "outputs": [
    {
     "name": "stdout",
     "output_type": "stream",
     "text": [
      "Dataset shapes (rows, columns):\n",
      "Features train: (100, 10)\n",
      "Target train: (100,)\n",
      "Features test: (43, 10)\n",
      "Target test: (43,)\n"
     ]
    }
   ],
   "source": [
    "# model_features_list = ['exercised_stock_options','total_stock_value','salary','bonus','expenses','from_poi_to_this_person',\n",
    "#                        'shared_receipt_with_poi','total_payments','expenses','restricted_stock']\n",
    "\n",
    "model_features_list = ['exercised_stock_options','total_stock_value','salary_ratio','bonus','expenses','from_poi_to_this_person',\n",
    "                       'shared_receipt_with_poi','total_payments','expenses','long_term_incentive']\n",
    "\n",
    "\n",
    "# print(features)\n",
    "# print(labels)\n",
    "\n",
    "# Place labels and features lists into dataframes. Rather than just using the enron data\n",
    "# use the results of Katie's featureFormat model - there's the features and lebels datasets\n",
    "\n",
    "# features_df = pd.DataFrame(features, features_list)\n",
    "# labels_df = pd.DataFrame(labels, ['poi'])\n",
    "\n",
    "features_df = enron_df[model_features_list]\n",
    "labels_df = enron_df['poi']\n",
    "\n",
    "# Now use train_test_split\n",
    "from sklearn.model_selection import train_test_split\n",
    "\n",
    "feature_train, feature_test, target_train, target_test = train_test_split(features_df, labels_df, test_size=0.3, \n",
    "                                                                          random_state=42)\n",
    "\n",
    "print(\"Dataset shapes (rows, columns):\")\n",
    "print(\"Features train:\", feature_train.shape)\n",
    "print(\"Target train:\", target_train.shape)\n",
    "print(\"Features test:\", feature_test.shape)\n",
    "print(\"Target test:\", target_test.shape)\n",
    "\n",
    "# Double check target_test:\n",
    "# print(target_test[15:15])"
   ]
  },
  {
   "cell_type": "markdown",
   "metadata": {},
   "source": [
    "## Section 6: Classifier Selection\n",
    "\n",
    "Classifier selection is tricky. Let's try out a bunch of classifiers and append to a dataset manually to compare some results! What gives us a decent enough accuracy score?"
   ]
  },
  {
   "cell_type": "code",
   "execution_count": 408,
   "metadata": {
    "scrolled": true
   },
   "outputs": [
    {
     "name": "stdout",
     "output_type": "stream",
     "text": [
      "\n",
      "\n",
      "Overall results: \n"
     ]
    },
    {
     "name": "stderr",
     "output_type": "stream",
     "text": [
      "/anaconda3/lib/python3.7/site-packages/sklearn/ensemble/forest.py:246: FutureWarning: The default value of n_estimators will change from 10 in version 0.20 to 100 in 0.22.\n",
      "  \"10 in version 0.20 to 100 in 0.22.\", FutureWarning)\n",
      "/anaconda3/lib/python3.7/site-packages/sklearn/metrics/classification.py:1143: UndefinedMetricWarning: Precision is ill-defined and being set to 0.0 due to no predicted samples.\n",
      "  'precision', 'predicted', average, warn_for)\n"
     ]
    },
    {
     "data": {
      "text/html": [
       "<div>\n",
       "<style scoped>\n",
       "    .dataframe tbody tr th:only-of-type {\n",
       "        vertical-align: middle;\n",
       "    }\n",
       "\n",
       "    .dataframe tbody tr th {\n",
       "        vertical-align: top;\n",
       "    }\n",
       "\n",
       "    .dataframe thead th {\n",
       "        text-align: right;\n",
       "    }\n",
       "</style>\n",
       "<table border=\"1\" class=\"dataframe\">\n",
       "  <thead>\n",
       "    <tr style=\"text-align: right;\">\n",
       "      <th></th>\n",
       "      <th>0</th>\n",
       "      <th>0</th>\n",
       "      <th>0</th>\n",
       "      <th>0</th>\n",
       "      <th>0</th>\n",
       "      <th>0</th>\n",
       "    </tr>\n",
       "  </thead>\n",
       "  <tbody>\n",
       "    <tr>\n",
       "      <th>clf_name</th>\n",
       "      <td>DecisionTree</td>\n",
       "      <td>RandomForest</td>\n",
       "      <td>SVM</td>\n",
       "      <td>GuassianNB</td>\n",
       "      <td>AdaBoost</td>\n",
       "      <td>KNearestNeighbours</td>\n",
       "    </tr>\n",
       "    <tr>\n",
       "      <th>clf_parameters</th>\n",
       "      <td>None</td>\n",
       "      <td>None</td>\n",
       "      <td>None</td>\n",
       "      <td>None</td>\n",
       "      <td>None</td>\n",
       "      <td>None</td>\n",
       "    </tr>\n",
       "    <tr>\n",
       "      <th>clf_features</th>\n",
       "      <td>exercised_stock_options,total_stock_value,sala...</td>\n",
       "      <td>exercised_stock_options,total_stock_value,sala...</td>\n",
       "      <td>exercised_stock_options,total_stock_value,sala...</td>\n",
       "      <td>exercised_stock_options,total_stock_value,sala...</td>\n",
       "      <td>exercised_stock_options,total_stock_value,sala...</td>\n",
       "      <td>exercised_stock_options,total_stock_value,sala...</td>\n",
       "    </tr>\n",
       "    <tr>\n",
       "      <th>precision</th>\n",
       "      <td>0.363636</td>\n",
       "      <td>1</td>\n",
       "      <td>0</td>\n",
       "      <td>0.166667</td>\n",
       "      <td>0.555556</td>\n",
       "      <td>1</td>\n",
       "    </tr>\n",
       "    <tr>\n",
       "      <th>recall</th>\n",
       "      <td>0.8</td>\n",
       "      <td>0.8</td>\n",
       "      <td>0</td>\n",
       "      <td>0.2</td>\n",
       "      <td>1</td>\n",
       "      <td>0.2</td>\n",
       "    </tr>\n",
       "    <tr>\n",
       "      <th>accuracy</th>\n",
       "      <td>0.813953</td>\n",
       "      <td>0.976744</td>\n",
       "      <td>0.883721</td>\n",
       "      <td>0.790698</td>\n",
       "      <td>0.906977</td>\n",
       "      <td>0.906977</td>\n",
       "    </tr>\n",
       "  </tbody>\n",
       "</table>\n",
       "</div>"
      ],
      "text/plain": [
       "                                                                0  \\\n",
       "clf_name                                             DecisionTree   \n",
       "clf_parameters                                               None   \n",
       "clf_features    exercised_stock_options,total_stock_value,sala...   \n",
       "precision                                                0.363636   \n",
       "recall                                                        0.8   \n",
       "accuracy                                                 0.813953   \n",
       "\n",
       "                                                                0  \\\n",
       "clf_name                                             RandomForest   \n",
       "clf_parameters                                               None   \n",
       "clf_features    exercised_stock_options,total_stock_value,sala...   \n",
       "precision                                                       1   \n",
       "recall                                                        0.8   \n",
       "accuracy                                                 0.976744   \n",
       "\n",
       "                                                                0  \\\n",
       "clf_name                                                      SVM   \n",
       "clf_parameters                                               None   \n",
       "clf_features    exercised_stock_options,total_stock_value,sala...   \n",
       "precision                                                       0   \n",
       "recall                                                          0   \n",
       "accuracy                                                 0.883721   \n",
       "\n",
       "                                                                0  \\\n",
       "clf_name                                               GuassianNB   \n",
       "clf_parameters                                               None   \n",
       "clf_features    exercised_stock_options,total_stock_value,sala...   \n",
       "precision                                                0.166667   \n",
       "recall                                                        0.2   \n",
       "accuracy                                                 0.790698   \n",
       "\n",
       "                                                                0  \\\n",
       "clf_name                                                 AdaBoost   \n",
       "clf_parameters                                               None   \n",
       "clf_features    exercised_stock_options,total_stock_value,sala...   \n",
       "precision                                                0.555556   \n",
       "recall                                                          1   \n",
       "accuracy                                                 0.906977   \n",
       "\n",
       "                                                                0  \n",
       "clf_name                                       KNearestNeighbours  \n",
       "clf_parameters                                               None  \n",
       "clf_features    exercised_stock_options,total_stock_value,sala...  \n",
       "precision                                                       1  \n",
       "recall                                                        0.2  \n",
       "accuracy                                                 0.906977  "
      ]
     },
     "metadata": {},
     "output_type": "display_data"
    }
   ],
   "source": [
    "### Task 4: Try a varity of classifiers\n",
    "### Please name your classifier clf for easy export below.\n",
    "### Note that if you want to do PCA or other multi-stage operations,\n",
    "### you'll need to use Pipelines. For more info:\n",
    "### http://scikit-learn.org/stable/modules/pipeline.html\n",
    "\n",
    "# Provided to give you a starting point. Try a variety of classifiers.\n",
    "from sklearn.tree import DecisionTreeClassifier\n",
    "from sklearn.ensemble import RandomForestClassifier\n",
    "from sklearn import svm\n",
    "from sklearn.naive_bayes import GaussianNB\n",
    "from sklearn.cluster import KMeans\n",
    "from sklearn.ensemble import AdaBoostClassifier\n",
    "from sklearn.neighbors import KNeighborsClassifier\n",
    "\n",
    "# Import classification metrics\n",
    "from sklearn.metrics import accuracy_score\n",
    "from sklearn.metrics import precision_score\n",
    "from sklearn.metrics import recall_score\n",
    "from sklearn.metrics import confusion_matrix\n",
    "\n",
    "clf_names = [\n",
    "    \"DecisionTree\"\n",
    "    ,\"RandomForest\"\n",
    "    ,\"SVM\"\n",
    "    ,\"GuassianNB\"\n",
    "#     ,\"KMeans\"\n",
    "    ,\"AdaBoost\"\n",
    "    ,\"KNearestNeighbours\"\n",
    "]\n",
    "\n",
    "clf_objects = [\n",
    "    DecisionTreeClassifier()\n",
    "    ,RandomForestClassifier()\n",
    "    ,svm.SVC(gamma='auto')\n",
    "    ,GaussianNB()\n",
    "#     ,KMeans()\n",
    "    ,AdaBoostClassifier()\n",
    "    ,KNeighborsClassifier()\n",
    "]\n",
    "\n",
    "# This segment of code is to prove it works on just two classifiers.\n",
    "\n",
    "# clf_names = [\"DecisionTree\", \"RandomForest\"]\n",
    "\n",
    "# clf_objects = [\n",
    "#     DecisionTreeClassifier(),\n",
    "#     RandomForestClassifier()\n",
    "# ]\n",
    "\n",
    "#     clf = KNeighborsClassifier(weights='distance', algorithm='ball_tree')\n",
    "\n",
    "\n",
    "# Create a clf_results_df as empty first before we start looping.\n",
    "clf_results_df = pd.DataFrame(columns=['clf_name','clf_parameters','clf_features','precision','recall','accuracy'])\n",
    "\n",
    "# iterate over classifiers\n",
    "for clf_name, clf_obj in zip(clf_names, clf_objects):\n",
    "    clf_obj.fit(feature_train, target_train)\n",
    "\n",
    "    pred = clf_obj.predict(feature_test)\n",
    "\n",
    "    clf_parameters = \"None\"\n",
    "    clf_features = \",\".join(model_features_list)\n",
    "    precision = precision_score(target_test, pred, pos_label=1, average='binary')\n",
    "    recall = recall_score(target_test, pred, pos_label=1, average='binary')\n",
    "    accuracy = accuracy_score(target_test, pred)\n",
    "\n",
    "#     columns=['clf_name','clf_parameters','clf_features','precision','recall','accuracy'], \n",
    "#                             data=[[clf_name], [clf_parameters], [clf_features], [precision], [recall], [accuracy]]\n",
    "        \n",
    "#     Load this data into a temporary pandas dataframe\n",
    "    scores_df = pd.DataFrame()\n",
    "    scores_df['clf_name'] = [clf_name]\n",
    "    scores_df['clf_parameters'] = [clf_parameters]\n",
    "    scores_df['clf_features'] = [clf_features]\n",
    "    scores_df['precision'] = [precision]\n",
    "    scores_df['recall'] = [recall]\n",
    "    scores_df['accuracy'] = [accuracy]\n",
    "                \n",
    "    clf_results_df = clf_results_df.append(scores_df)\n",
    "    \n",
    "    cm = confusion_matrix(target_test, pred)\n",
    "\n",
    "    df_cm = pd.DataFrame(cm, range(2), range(2))\n",
    "\n",
    "# Printing a heat map of the confusion matrix\n",
    "#     print(\"Model: \", clf_name)\n",
    "#     sn.set(font_scale=1.4)#for label size\n",
    "#     sn.heatmap(df_cm, annot=True,annot_kws={\"size\": 16})# font size\n",
    "\n",
    "print()\n",
    "print()\n",
    "\n",
    "print(\"Overall results: \")\n",
    "clf_results_final = clf_results_df.transpose()\n",
    "# print(clf_results_final.to_string())\n",
    "\n",
    "from IPython.display import display\n",
    "display(clf_results_final)"
   ]
  },
  {
   "cell_type": "markdown",
   "metadata": {},
   "source": [
    "It looks like the best models to use, based on our initial *model_features_list*, are:\n",
    "\n",
    "1. Decision Tree\n",
    "2. Random Forest\n",
    "3. Gaussian NB\n",
    "4. Adaboost\n",
    "\n",
    "Though it's slightly disappointing that our precision/recall are so low, let's see if parameter tuning helps a little."
   ]
  },
  {
   "cell_type": "markdown",
   "metadata": {},
   "source": [
    "## Section 7: Parameter Tuning\n",
    "\n",
    "Tune the parameters. Maybe try GridsearchCV as explained here on Kaggle:\n",
    "\n",
    "https://www.kaggle.com/evanmiller/pipelines-gridsearch-awesome-ml-pipelines"
   ]
  },
  {
   "cell_type": "code",
   "execution_count": 405,
   "metadata": {},
   "outputs": [
    {
     "name": "stderr",
     "output_type": "stream",
     "text": [
      "/anaconda3/lib/python3.7/site-packages/sklearn/model_selection/_split.py:2053: FutureWarning: You should specify a value for 'cv' instead of relying on the default value. The default value will change from 3 to 5 in version 0.22.\n",
      "  warnings.warn(CV_WARNING, FutureWarning)\n"
     ]
    },
    {
     "name": "stdout",
     "output_type": "stream",
     "text": [
      "Best score and parameter combination = \n",
      "0.39799999999999996\n",
      "{'clf__criterion': 'gini', 'clf__max_depth': 6, 'clf__min_samples_split': 6, 'clf__n_estimators': 25}\n"
     ]
    },
    {
     "name": "stderr",
     "output_type": "stream",
     "text": [
      "/anaconda3/lib/python3.7/site-packages/sklearn/model_selection/_search.py:841: DeprecationWarning: The default of the `iid` parameter will change from True to False in version 0.22 and will be removed in 0.24. This will change numeric results when test-set sizes are unequal.\n",
      "  DeprecationWarning)\n"
     ]
    }
   ],
   "source": [
    "### Task 5: Tune your classifier to achieve better than .3 precision and recall \n",
    "### using our testing script. Check the tester.py script in the final project\n",
    "### folder for details on the evaluation method, especially the test_classifier\n",
    "### function. Because of the small size of the dataset, the script uses\n",
    "### stratified shuffle split cross validation. For more info: \n",
    "### http://scikit-learn.org/stable/modules/generated/sklearn.cross_validation.StratifiedShuffleSplit.html\n",
    "\n",
    "# Example starting point. Try investigating other evaluation techniques!\n",
    "from sklearn.model_selection import GridSearchCV\n",
    "from sklearn.pipeline import Pipeline, FeatureUnion\n",
    "\n",
    "pipeline = Pipeline([\n",
    "#         ('clf', AdaBoostClassifier())\n",
    "#         ('clf', DecisionTreeClassifier())\n",
    "        ('clf', RandomForestClassifier())\n",
    "#         ('clf', GaussianNB())\n",
    "\n",
    "    ])\n",
    "\n",
    "parameters = {\n",
    "#         ADABOOST\n",
    "#         'clf__algorithm': ['SAMME', 'SAMME.R'],\n",
    "#         'clf__n_estimators': [25, 50, 100],\n",
    "#         'clf__learning_rate': [.5, 1., 1.5]\n",
    "    \n",
    "#         DECISION TREE\n",
    "#           'clf__max_depth': [3, 6, 9, 12, 15, 20],\n",
    "#           'clf__min_samples_leaf': [1, 5, 10, 20, 50, 100]\n",
    "\n",
    "#         RANDOM FOREST\n",
    "        'clf__n_estimators': [25, 30, 50, 80, 100],\n",
    "        'clf__min_samples_split': [2, 4, 6, 8, 10],\n",
    "        'clf__criterion': ['gini', 'entropy'],\n",
    "        'clf__max_depth': [3, 6, 9, 12, 15, 20]\n",
    "    \n",
    "        # GAUSSIAN NB\n",
    "        # None, since GaussianNB only requires 'prior' as a thingie.\n",
    "}\n",
    "\n",
    "CV = GridSearchCV(pipeline, parameters, scoring = 'recall')\n",
    "\n",
    "CV.fit(feature_train, target_train)   \n",
    "\n",
    "print('Best score and parameter combination = ')\n",
    "\n",
    "print(CV.best_score_)    \n",
    "print(CV.best_params_)   "
   ]
  },
  {
   "cell_type": "markdown",
   "metadata": {},
   "source": [
    "Results of each algorithm through the GridSearchCV are as follows:\n",
    "```Python\n",
    "Adaboost:\n",
    "Best score and parameter combination = \n",
    "0.39799999999999996\n",
    "{'clf__algorithm': 'SAMME.R', 'clf__learning_rate': 1.0, 'clf__n_estimators': 25}\n",
    "\n",
    "DecisionTree:\n",
    "Best score and parameter combination = \n",
    "0.39799999999999996\n",
    "{'clf__max_depth': 6, 'clf__min_samples_leaf': 1}\n",
    "\n",
    "RandomForest:\n",
    "Best score and parameter combination = \n",
    "0.33\n",
    "{'clf__criterion': 'gini', 'clf__max_depth': 15, 'clf__min_samples_split': 6, 'clf__n_estimators': 30}\n",
    "```"
   ]
  },
  {
   "cell_type": "markdown",
   "metadata": {},
   "source": [
    "So from our 3 tunable classifiers, Adaboost was the one that worked best up above, and has a recall of 0.397, based on our train/test split.\n",
    "\n",
    "I think we're limited by the test data here... maybe I could use a stratifiedshufflesplit() to remove the issue of having such a small set of target labels?"
   ]
  },
  {
   "cell_type": "markdown",
   "metadata": {},
   "source": [
    "## Section 8: Final model creation\n",
    "\n",
    "Well, we've picked AdaBoost. Let's go with that!"
   ]
  },
  {
   "cell_type": "code",
   "execution_count": 406,
   "metadata": {},
   "outputs": [
    {
     "data": {
      "text/html": [
       "<div>\n",
       "<style scoped>\n",
       "    .dataframe tbody tr th:only-of-type {\n",
       "        vertical-align: middle;\n",
       "    }\n",
       "\n",
       "    .dataframe tbody tr th {\n",
       "        vertical-align: top;\n",
       "    }\n",
       "\n",
       "    .dataframe thead th {\n",
       "        text-align: right;\n",
       "    }\n",
       "</style>\n",
       "<table border=\"1\" class=\"dataframe\">\n",
       "  <thead>\n",
       "    <tr style=\"text-align: right;\">\n",
       "      <th></th>\n",
       "      <th>clf_name</th>\n",
       "      <th>clf_parameters</th>\n",
       "      <th>clf_features</th>\n",
       "      <th>precision</th>\n",
       "      <th>recall</th>\n",
       "      <th>accuracy</th>\n",
       "    </tr>\n",
       "  </thead>\n",
       "  <tbody>\n",
       "    <tr>\n",
       "      <th>0</th>\n",
       "      <td>AdaBoost</td>\n",
       "      <td>{'clf__algorithm': 'SAMME.R', 'clf__learning_r...</td>\n",
       "      <td>exercised_stock_options,total_stock_value,sala...</td>\n",
       "      <td>0.555556</td>\n",
       "      <td>1.0</td>\n",
       "      <td>0.906977</td>\n",
       "    </tr>\n",
       "  </tbody>\n",
       "</table>\n",
       "</div>"
      ],
      "text/plain": [
       "   clf_name                                     clf_parameters  \\\n",
       "0  AdaBoost  {'clf__algorithm': 'SAMME.R', 'clf__learning_r...   \n",
       "\n",
       "                                        clf_features  precision  recall  \\\n",
       "0  exercised_stock_options,total_stock_value,sala...   0.555556     1.0   \n",
       "\n",
       "   accuracy  \n",
       "0  0.906977  "
      ]
     },
     "metadata": {},
     "output_type": "display_data"
    },
    {
     "name": "stdout",
     "output_type": "stream",
     "text": [
      "Model:  AdaBoost\n"
     ]
    },
    {
     "data": {
      "text/plain": [
       "<matplotlib.axes._subplots.AxesSubplot at 0x1a283eccf8>"
      ]
     },
     "execution_count": 406,
     "metadata": {},
     "output_type": "execute_result"
    },
    {
     "data": {
      "image/png": "[encoded data removed]",
      "text/plain": [
       "<Figure size 432x288 with 2 Axes>"
      ]
     },
     "metadata": {},
     "output_type": "display_data"
    }
   ],
   "source": [
    "clf = AdaBoostClassifier(algorithm ='SAMME.R', learning_rate = 1.0, n_estimators = 25)\n",
    "\n",
    "clf.fit(feature_train, target_train)\n",
    "\n",
    "pred = clf.predict(feature_test)\n",
    "\n",
    "clf_name = 'AdaBoost'\n",
    "clf_parameters = \"None\"\n",
    "clf_features = \",\".join(model_features_list)\n",
    "precision = precision_score(target_test, pred, pos_label=1, average='binary')\n",
    "recall = recall_score(target_test, pred, pos_label=1, average='binary')\n",
    "accuracy = accuracy_score(target_test, pred)\n",
    "\n",
    "#     columns=['clf_name','clf_parameters','clf_features','precision','recall','accuracy'], \n",
    "#                             data=[[clf_name], [clf_parameters], [clf_features], [precision], [recall], [accuracy]]\n",
    "\n",
    "#     Load this data into a temporary pandas dataframe\n",
    "final_scores_df = pd.DataFrame()\n",
    "final_scores_df['clf_name'] = [clf_name]\n",
    "final_scores_df['clf_parameters'] = [str({'clf__algorithm': 'SAMME.R', 'clf__learning_rate': 1.0, 'clf__n_estimators': 25})]\n",
    "final_scores_df['clf_features'] = [clf_features]\n",
    "final_scores_df['precision'] = [precision]\n",
    "final_scores_df['recall'] = [recall]\n",
    "final_scores_df['accuracy'] = [accuracy]\n",
    "\n",
    "cm = confusion_matrix(target_test, pred)\n",
    "\n",
    "df_cm = pd.DataFrame(cm, range(2), range(2))\n",
    "\n",
    "display(final_scores_df)\n",
    "\n",
    "# Printing a heat map of the confusion matrix\n",
    "print(\"Model: \", clf_name)\n",
    "sn.set(font_scale=1.4)#for label size\n",
    "sn.heatmap(df_cm, annot=True,annot_kws={\"size\": 16})# font size"
   ]
  },
  {
   "cell_type": "code",
   "execution_count": 407,
   "metadata": {},
   "outputs": [],
   "source": [
    "### Task 6: Dump your classifier, dataset, and features_list so anyone can\n",
    "### check your results. You do not need to change anything below, but make sure\n",
    "### that the version of poi_id.py that you submit can be run on its own and\n",
    "### generates the necessary .pkl files for validating your results.\n",
    "\n",
    "dump_classifier_and_data(clf, my_dataset, target_label + features_list)\n",
    "\n",
    "# pickle.dump(clf, open(\"my_classifier.pkl\", \"wb\") )\n",
    "# pickle.dump(data_dict, open(\"my_dataset.pkl\", \"wb\") )\n",
    "# pickle.dump(model_features_list, open(\"my_feature_list.pkl\", \"wb\") )"
   ]
  },
  {
   "cell_type": "markdown",
   "metadata": {},
   "source": [
    "Tester_py file results are:\n",
    "``` Python\n",
    "\n",
    "AdaBoostClassifier(algorithm='SAMME.R', base_estimator=None,\n",
    "          learning_rate=1.0, n_estimators=25, random_state=None)\n",
    "\tAccuracy: 0.82713\tPrecision: 0.30659\tRecall: 0.23500\tF1: 0.26606\tF2: 0.24651\n",
    "\tTotal predictions: 15000\tTrue positives:  470\tFalse positives: 1063\tFalse negatives: 1530\tTrue negatives: 11937\n",
    "```"
   ]
  }
 ],
 "metadata": {
  "kernelspec": {
   "display_name": "Python 3",
   "language": "python",
   "name": "python3"
  },
  "language_info": {
   "codemirror_mode": {
    "name": "ipython",
    "version": 3
   },
   "file_extension": ".py",
   "mimetype": "text/x-python",
   "name": "python",
   "nbconvert_exporter": "python",
   "pygments_lexer": "ipython3",
   "version": "3.7.1"
  }
 },
 "nbformat": 4,
 "nbformat_minor": 2
}
